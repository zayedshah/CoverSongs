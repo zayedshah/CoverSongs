{
  "nbformat": 4,
  "nbformat_minor": 0,
  "metadata": {
    "colab": {
      "name": "0728_03.ipynb",
      "version": "0.3.2",
      "views": {},
      "default_view": {},
      "provenance": [],
      "collapsed_sections": []
    },
    "kernelspec": {
      "name": "python3",
      "display_name": "Python 3"
    }
  },
  "cells": [
    {
      "metadata": {
        "id": "KfgxZQ_mw3rw",
        "colab_type": "code",
        "colab": {
          "autoexec": {
            "startup": false,
            "wait_interval": 0
          }
        }
      },
      "cell_type": "code",
      "source": [
        "import numpy as np\n",
        "import pandas as pd\n",
        "import matplotlib.pyplot as plt\n",
        "\n",
        "%matplotlib inline"
      ],
      "execution_count": 0,
      "outputs": []
    },
    {
      "metadata": {
        "id": "5D14gE8qw_NU",
        "colab_type": "code",
        "colab": {
          "autoexec": {
            "startup": false,
            "wait_interval": 0
          }
        }
      },
      "cell_type": "code",
      "source": [
        "x = np.arange(1, 11)\n",
        "y = x * 2"
      ],
      "execution_count": 0,
      "outputs": []
    },
    {
      "metadata": {
        "id": "1fCmIfz6xA2X",
        "colab_type": "code",
        "colab": {
          "autoexec": {
            "startup": false,
            "wait_interval": 0
          },
          "base_uri": "https://localhost:8080/",
          "height": 298
        },
        "outputId": "07d5f8f3-f4f2-431b-bd78-c5e8e3a73611",
        "executionInfo": {
          "status": "ok",
          "timestamp": 1532796307641,
          "user_tz": -60,
          "elapsed": 974,
          "user": {
            "displayName": "Zayed Shah",
            "photoUrl": "//lh6.googleusercontent.com/-mYvyylR9dn0/AAAAAAAAAAI/AAAAAAAAAQM/FR1Q5ai4Ipg/s50-c-k-no/photo.jpg",
            "userId": "103266496270214154227"
          }
        }
      },
      "cell_type": "code",
      "source": [
        "plt.plot(x, y, '-bo', label='y')\n",
        "plt.xlabel('x')\n",
        "plt.ylabel('y')\n",
        "plt.legend()"
      ],
      "execution_count": 3,
      "outputs": [
        {
          "output_type": "execute_result",
          "data": {
            "text/plain": [
              "<matplotlib.legend.Legend at 0x7fcf4b6999b0>"
            ]
          },
          "metadata": {
            "tags": []
          },
          "execution_count": 3
        },
        {
          "output_type": "display_data",
          "data": {
            "image/png": "[encoded data removed]",
            "text/plain": [
              "<matplotlib.figure.Figure at 0x7fcf4df2abe0>"
            ]
          },
          "metadata": {
            "tags": []
          }
        }
      ]
    },
    {
      "metadata": {
        "id": "tXPl9dLMxFoy",
        "colab_type": "code",
        "colab": {
          "autoexec": {
            "startup": false,
            "wait_interval": 0
          },
          "base_uri": "https://localhost:8080/",
          "height": 363
        },
        "outputId": "88dc5480-1943-409e-9c3a-3b7515021a40",
        "executionInfo": {
          "status": "ok",
          "timestamp": 1532796308590,
          "user_tz": -60,
          "elapsed": 713,
          "user": {
            "displayName": "Zayed Shah",
            "photoUrl": "//lh6.googleusercontent.com/-mYvyylR9dn0/AAAAAAAAAAI/AAAAAAAAAQM/FR1Q5ai4Ipg/s50-c-k-no/photo.jpg",
            "userId": "103266496270214154227"
          }
        }
      },
      "cell_type": "code",
      "source": [
        "ms = []\n",
        "mses = []\n",
        "dms = []\n",
        "\n",
        "m = np.random.rand()\n",
        "lr = 0.01\n",
        "\n",
        "for iteration in range(10):  \n",
        "  ms.append(m)\n",
        "  \n",
        "  yP = m * x\n",
        "  e = yP - y\n",
        "  se = np.square(e)\n",
        "  n = len(x)\n",
        "  mse = se.sum() / n\n",
        "  mses.append(mse)\n",
        "  \n",
        "  dm = (2 / n) * (e * x).sum()\n",
        "  dms.append(dm)\n",
        "  \n",
        "  m = m - lr * dm\n",
        "  \n",
        "df = pd.DataFrame({'m':ms, 'loss':mses, 'slope':dms})\n",
        "df"
      ],
      "execution_count": 4,
      "outputs": [
        {
          "output_type": "execute_result",
          "data": {
            "text/html": [
              "<div>\n",
              "<style scoped>\n",
              "    .dataframe tbody tr th:only-of-type {\n",
              "        vertical-align: middle;\n",
              "    }\n",
              "\n",
              "    .dataframe tbody tr th {\n",
              "        vertical-align: top;\n",
              "    }\n",
              "\n",
              "    .dataframe thead th {\n",
              "        text-align: right;\n",
              "    }\n",
              "</style>\n",
              "<table border=\"1\" class=\"dataframe\">\n",
              "  <thead>\n",
              "    <tr style=\"text-align: right;\">\n",
              "      <th></th>\n",
              "      <th>loss</th>\n",
              "      <th>m</th>\n",
              "      <th>slope</th>\n",
              "    </tr>\n",
              "  </thead>\n",
              "  <tbody>\n",
              "    <tr>\n",
              "      <th>0</th>\n",
              "      <td>6.628286e+01</td>\n",
              "      <td>0.687890</td>\n",
              "      <td>-101.032473</td>\n",
              "    </tr>\n",
              "    <tr>\n",
              "      <th>1</th>\n",
              "      <td>3.506363e+00</td>\n",
              "      <td>1.698215</td>\n",
              "      <td>-23.237469</td>\n",
              "    </tr>\n",
              "    <tr>\n",
              "      <th>2</th>\n",
              "      <td>1.854866e-01</td>\n",
              "      <td>1.930589</td>\n",
              "      <td>-5.344618</td>\n",
              "    </tr>\n",
              "    <tr>\n",
              "      <th>3</th>\n",
              "      <td>9.812242e-03</td>\n",
              "      <td>1.984036</td>\n",
              "      <td>-1.229262</td>\n",
              "    </tr>\n",
              "    <tr>\n",
              "      <th>4</th>\n",
              "      <td>5.190676e-04</td>\n",
              "      <td>1.996328</td>\n",
              "      <td>-0.282730</td>\n",
              "    </tr>\n",
              "    <tr>\n",
              "      <th>5</th>\n",
              "      <td>2.745868e-05</td>\n",
              "      <td>1.999155</td>\n",
              "      <td>-0.065028</td>\n",
              "    </tr>\n",
              "    <tr>\n",
              "      <th>6</th>\n",
              "      <td>1.452564e-06</td>\n",
              "      <td>1.999806</td>\n",
              "      <td>-0.014956</td>\n",
              "    </tr>\n",
              "    <tr>\n",
              "      <th>7</th>\n",
              "      <td>7.684064e-08</td>\n",
              "      <td>1.999955</td>\n",
              "      <td>-0.003440</td>\n",
              "    </tr>\n",
              "    <tr>\n",
              "      <th>8</th>\n",
              "      <td>4.064870e-09</td>\n",
              "      <td>1.999990</td>\n",
              "      <td>-0.000791</td>\n",
              "    </tr>\n",
              "    <tr>\n",
              "      <th>9</th>\n",
              "      <td>2.150316e-10</td>\n",
              "      <td>1.999998</td>\n",
              "      <td>-0.000182</td>\n",
              "    </tr>\n",
              "  </tbody>\n",
              "</table>\n",
              "</div>"
            ],
            "text/plain": [
              "           loss         m       slope\n",
              "0  6.628286e+01  0.687890 -101.032473\n",
              "1  3.506363e+00  1.698215  -23.237469\n",
              "2  1.854866e-01  1.930589   -5.344618\n",
              "3  9.812242e-03  1.984036   -1.229262\n",
              "4  5.190676e-04  1.996328   -0.282730\n",
              "5  2.745868e-05  1.999155   -0.065028\n",
              "6  1.452564e-06  1.999806   -0.014956\n",
              "7  7.684064e-08  1.999955   -0.003440\n",
              "8  4.064870e-09  1.999990   -0.000791\n",
              "9  2.150316e-10  1.999998   -0.000182"
            ]
          },
          "metadata": {
            "tags": []
          },
          "execution_count": 4
        }
      ]
    },
    {
      "metadata": {
        "id": "fb4IvMWExQTm",
        "colab_type": "code",
        "colab": {
          "autoexec": {
            "startup": false,
            "wait_interval": 0
          },
          "base_uri": "https://localhost:8080/",
          "height": 298
        },
        "outputId": "778c64eb-2f0c-4016-c7e8-cce7ad7582ba",
        "executionInfo": {
          "status": "ok",
          "timestamp": 1532796309924,
          "user_tz": -60,
          "elapsed": 1063,
          "user": {
            "displayName": "Zayed Shah",
            "photoUrl": "//lh6.googleusercontent.com/-mYvyylR9dn0/AAAAAAAAAAI/AAAAAAAAAQM/FR1Q5ai4Ipg/s50-c-k-no/photo.jpg",
            "userId": "103266496270214154227"
          }
        }
      },
      "cell_type": "code",
      "source": [
        "plt.plot(ms, mses, '-bo', label='loss')\n",
        "plt.xlabel('m')\n",
        "plt.ylabel('loss')\n",
        "plt.legend()"
      ],
      "execution_count": 5,
      "outputs": [
        {
          "output_type": "execute_result",
          "data": {
            "text/plain": [
              "<matplotlib.legend.Legend at 0x7fcf4b630668>"
            ]
          },
          "metadata": {
            "tags": []
          },
          "execution_count": 5
        },
        {
          "output_type": "display_data",
          "data": {
            "image/png": "[encoded data removed]",
            "text/plain": [
              "<matplotlib.figure.Figure at 0x7fcf4b630390>"
            ]
          },
          "metadata": {
            "tags": []
          }
        }
      ]
    }
  ]
}