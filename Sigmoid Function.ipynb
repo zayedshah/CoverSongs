{
  "nbformat": 4,
  "nbformat_minor": 0,
  "metadata": {
    "colab": {
      "name": "Sigmoid Function.ipynb",
      "version": "0.3.2",
      "provenance": [],
      "collapsed_sections": []
    },
    "kernelspec": {
      "name": "python3",
      "display_name": "Python 3"
    }
  },
  "cells": [
    {
      "metadata": {
        "id": "77XZGA0OLuTj",
        "colab_type": "text"
      },
      "cell_type": "markdown",
      "source": [
        "# Sigmoid Function"
      ]
    },
    {
      "metadata": {
        "id": "ypzD0jMKL5hc",
        "colab_type": "text"
      },
      "cell_type": "markdown",
      "source": [
        "Sigmoid function has been used in Machine Learning and Deep Learning for many years, until lately it has been replaced by Relu function - Rectified Linear Unit.\n",
        "\n",
        "In one of the talks by Geoffrey Hinton, I remember him mentioning that people in the machine learning community didn't think of trying any other methods other than Sigmoid for close to around 30 years.\n",
        "\n",
        "Sigmoid function is also called Logistic function. They are used synonymously. \n",
        "\n",
        "We can see where this is leading - the name Logistic Regression came from using Logistic function, aka, Sigmoid function.\n",
        "\n",
        "Sigmoid function squishes all values between 0 and 1. And this was ideal for classification. Logistic Regression should have been called Logistic Classification.\n",
        "\n",
        "The formula for Sigmoid function is given by:\n",
        "\n",
        "$$ f(x) = \\frac {1} {1 + e^ {-x}} $$"
      ]
    },
    {
      "metadata": {
        "id": "wl7PnLxUOZr_",
        "colab_type": "text"
      },
      "cell_type": "markdown",
      "source": [
        "## Implementation\n",
        "\n",
        "The only dependencies for this would be numpy and matplotlib."
      ]
    },
    {
      "metadata": {
        "id": "e47IHRpjKvIA",
        "colab_type": "code",
        "colab": {}
      },
      "cell_type": "code",
      "source": [
        "import numpy as np\n",
        "import matplotlib.pyplot as plt\n",
        "\n",
        "%matplotlib inline"
      ],
      "execution_count": 1,
      "outputs": []
    },
    {
      "metadata": {
        "id": "fBV4tvSdOn4D",
        "colab_type": "text"
      },
      "cell_type": "markdown",
      "source": [
        "We create a list of numbers between -10 and 10 (both inclusive). This would be good for visualisation."
      ]
    },
    {
      "metadata": {
        "id": "c3OhZcPjK3yj",
        "colab_type": "code",
        "colab": {
          "base_uri": "https://localhost:8080/",
          "height": 55
        },
        "outputId": "6c486241-cace-40aa-ab53-9e46dbeb5525"
      },
      "cell_type": "code",
      "source": [
        "x = np.arange(-10, 11)\n",
        "x"
      ],
      "execution_count": 2,
      "outputs": [
        {
          "output_type": "execute_result",
          "data": {
            "text/plain": [
              "array([-10,  -9,  -8,  -7,  -6,  -5,  -4,  -3,  -2,  -1,   0,   1,   2,\n",
              "         3,   4,   5,   6,   7,   8,   9,  10])"
            ]
          },
          "metadata": {
            "tags": []
          },
          "execution_count": 2
        }
      ]
    },
    {
      "metadata": {
        "id": "AfUlQ9-jOyua",
        "colab_type": "text"
      },
      "cell_type": "markdown",
      "source": [
        "Sigmoid function defined."
      ]
    },
    {
      "metadata": {
        "id": "jOR2AF0bK6Jy",
        "colab_type": "code",
        "colab": {}
      },
      "cell_type": "code",
      "source": [
        "def sigmoid(x):\n",
        "  return 1 / (1 + np.exp(-x))"
      ],
      "execution_count": 3,
      "outputs": []
    },
    {
      "metadata": {
        "id": "aXQiXURxO3Ok",
        "colab_type": "text"
      },
      "cell_type": "markdown",
      "source": [
        "Calling sigmoid function on the values of x."
      ]
    },
    {
      "metadata": {
        "id": "7RGQA_bVK-Gf",
        "colab_type": "code",
        "colab": {}
      },
      "cell_type": "code",
      "source": [
        "y = sigmoid(x)"
      ],
      "execution_count": 4,
      "outputs": []
    },
    {
      "metadata": {
        "id": "W0viCg5ePtK4",
        "colab_type": "text"
      },
      "cell_type": "markdown",
      "source": [
        "Great thing about numpy arrays, here x, is that we can call it straightaway - no need for for loops. This is vectorisation in action."
      ]
    },
    {
      "metadata": {
        "id": "njWLVzv7LBLQ",
        "colab_type": "code",
        "colab": {
          "base_uri": "https://localhost:8080/",
          "height": 130
        },
        "outputId": "8c1980fe-6fe8-4999-df50-cbeab3cf76dd"
      },
      "cell_type": "code",
      "source": [
        "y"
      ],
      "execution_count": 5,
      "outputs": [
        {
          "output_type": "execute_result",
          "data": {
            "text/plain": [
              "array([4.53978687e-05, 1.23394576e-04, 3.35350130e-04, 9.11051194e-04,\n",
              "       2.47262316e-03, 6.69285092e-03, 1.79862100e-02, 4.74258732e-02,\n",
              "       1.19202922e-01, 2.68941421e-01, 5.00000000e-01, 7.31058579e-01,\n",
              "       8.80797078e-01, 9.52574127e-01, 9.82013790e-01, 9.93307149e-01,\n",
              "       9.97527377e-01, 9.99088949e-01, 9.99664650e-01, 9.99876605e-01,\n",
              "       9.99954602e-01])"
            ]
          },
          "metadata": {
            "tags": []
          },
          "execution_count": 5
        }
      ]
    },
    {
      "metadata": {
        "id": "N0q63y2dPBIM",
        "colab_type": "text"
      },
      "cell_type": "markdown",
      "source": [
        "Lets plot it."
      ]
    },
    {
      "metadata": {
        "id": "RyKpY4HMLK9R",
        "colab_type": "code",
        "colab": {
          "base_uri": "https://localhost:8080/",
          "height": 313
        },
        "outputId": "b505826d-06b1-4078-b984-e96546c15864"
      },
      "cell_type": "code",
      "source": [
        "plt.plot(x, y, '-bo')\n",
        "plt.xlabel('x')\n",
        "plt.ylabel('Sigmoid of x')\n",
        "plt.title('Sigmoid Function')"
      ],
      "execution_count": 6,
      "outputs": [
        {
          "output_type": "execute_result",
          "data": {
            "text/plain": [
              "Text(0.5,1,'Sigmoid Function')"
            ]
          },
          "metadata": {
            "tags": []
          },
          "execution_count": 6
        },
        {
          "output_type": "display_data",
          "data": {
            "image/png": "[encoded data removed]",
            "text/plain": [
              "<matplotlib.figure.Figure at 0x7f733c551390>"
            ]
          },
          "metadata": {
            "tags": []
          }
        }
      ]
    },
    {
      "metadata": {
        "id": "I0BXQ0pMPNRU",
        "colab_type": "text"
      },
      "cell_type": "markdown",
      "source": [
        "We notice that at x = 0, sigmoid of x is 0.5. And as we move away 0 on the positive side, sigmoids asymptotes close to 1; and as we move away from 0 on the negative side, sigmoids asymptotes close to 0."
      ]
    }
  ]
}
